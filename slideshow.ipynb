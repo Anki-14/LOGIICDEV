{
 "cells": [
  {
   "cell_type": "markdown",
   "metadata": {},
   "source": [
    "We need to import the os module for a slideshow in Python when we want to interact with the operating system, particularly for tasks such as:\n",
    "\n",
    "Accessing Files and Directories: The os module helps in reading image files from a directory for a slideshow. It allows you to:\n",
    "List files in a directory using os.listdir().\n",
    "Join file paths using os.path.join(), ensuring compatibility across different operating systems.\n",
    "Navigating Directories: If the images are stored in different folders, os helps in navigating the directory structure, changing directories, or working with relative paths."
   ]
  },
  {
   "cell_type": "code",
   "execution_count": 3,
   "metadata": {},
   "outputs": [],
   "source": [
    "import cv2\n",
    "import os"
   ]
  },
  {
   "cell_type": "code",
   "execution_count": 12,
   "metadata": {},
   "outputs": [
    {
     "data": {
      "text/plain": [
       "['image1.png', 'img2.jpeg', 'img3.jpeg', 'img4.jpeg', 'rose.jpg']"
      ]
     },
     "execution_count": 12,
     "metadata": {},
     "output_type": "execute_result"
    }
   ],
   "source": [
    "list_name=os.listdir(r'images')\n",
    "list_name"
   ]
  },
  {
   "cell_type": "code",
   "execution_count": 14,
   "metadata": {},
   "outputs": [],
   "source": [
    "for name in list_name:\n",
    "    path = \"images\"\n",
    "    image_name = os.path.join(path, name)  # Use os.path.join for path compatibility\n",
    "    img = cv2.imread(image_name)\n",
    "\n",
    "    if img is not None:  # Check if the image is successfully loaded\n",
    "        img = cv2.resize(img, (500, 600))  # Resize the image to 500x600 pixels\n",
    "        cv2.imshow(\"slideshow\", img)\n",
    "        cv2.waitKey(0)  # Wait for a key press before moving to the next image\n",
    "        cv2.destroyAllWindows()  # Close the window after showing the image\n",
    "    else:\n",
    "        print(f\"Image {image_name} not found\")"
   ]
  },
  {
   "cell_type": "code",
   "execution_count": null,
   "metadata": {},
   "outputs": [],
   "source": []
  }
 ],
 "metadata": {
  "kernelspec": {
   "display_name": "Python 3",
   "language": "python",
   "name": "python3"
  },
  "language_info": {
   "codemirror_mode": {
    "name": "ipython",
    "version": 3
   },
   "file_extension": ".py",
   "mimetype": "text/x-python",
   "name": "python",
   "nbconvert_exporter": "python",
   "pygments_lexer": "ipython3",
   "version": "3.12.3"
  }
 },
 "nbformat": 4,
 "nbformat_minor": 2
}
