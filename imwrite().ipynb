{
 "cells": [
  {
   "cell_type": "markdown",
   "metadata": {},
   "source": [
    "The cv2.imwrite() function in OpenCV is used to save an image to a specified file. \n",
    "\n",
    "Parameters:\n",
    "\n",
    "filename: The name (including the path) of the file where you want to save the image. You should include the file extension (e.g., .jpg, .png, .bmp) to specify the format.\n",
    "\n",
    "img: The image to be saved. This should be a valid image matrix, which is usually obtained from reading an image using cv2.imread() or after processing the image.\n",
    "\n",
    "Return Value:\n",
    "The function returns True if the image is successfully saved, and False if there is an error (e.g., invalid path, insufficient permissions, etc.)."
   ]
  },
  {
   "cell_type": "code",
   "execution_count": 2,
   "metadata": {},
   "outputs": [],
   "source": [
    "import cv2\n",
    "image = cv2.imread('images\\\\cat.jpg')\n",
    "\n",
    "blurred_image = cv2.GaussianBlur(image, (5, 5), 0)\n",
    "\n",
    "success = cv2.imwrite('cat_blurred_image.jpg', blurred_image)\n"
   ]
  },
  {
   "cell_type": "markdown",
   "metadata": {},
   "source": [
    "The cv2.copyMakeBorder() function in OpenCV is used to add a border around an image. This is useful for various purposes, such as improving the appearance of an image, preparing it for processing, or applying certain algorithms that require a specific input size.\n",
    "\n",
    "cv2.copyMakeBorder(src, top, bottom, left, right, borderType, value=None)\n",
    "\n",
    "\n",
    "Parameters:\n",
    "\n",
    "src: The source image to which you want to add borders.\n",
    "\n",
    "top: The number of pixels to add to the top of the image.\n",
    "\n",
    "bottom: The number of pixels to add to the bottom of the image.\n",
    "\n",
    "left: The number of pixels to add to the left of the image.\n",
    "\n",
    "right: The number of pixels to add to the right of \n",
    "the image.\n",
    "\n",
    "borderType: The type of border to create. Common \n",
    "\n",
    "types include:\n",
    "    cv2.BORDER_CONSTANT: Adds a constant color border.\n",
    "    \n",
    "    cv2.BORDER_REPLICATE: Replicates the border pixels.\n",
    "    \n",
    "    cv2.BORDER_REFLECT: Reflects the border pixels.\n",
    "    \n",
    "    cv2.BORDER_REFLECT_101: Reflects with a slight variation (not including the last row/column).\n",
    "    \n",
    "    cv2.BORDER_WRAP: Wraps the image around.\n",
    "\n",
    "value: Optional. The color of the border (for BORDER_CONSTANT). It can be specified as a tuple for color images (B, G, R)."
   ]
  },
  {
   "cell_type": "code",
   "execution_count": 4,
   "metadata": {},
   "outputs": [],
   "source": [
    "bordered_image = cv2.copyMakeBorder(image, 10, 10, 10, 10, cv2.BORDER_CONSTANT, value=(255, 0, 0))\n",
    "\n",
    "cv2.imshow(\"Bordered Image\", bordered_image)\n",
    "\n",
    "cv2.waitKey(0)\n",
    "cv2.destroyAllWindows()\n"
   ]
  },
  {
   "cell_type": "code",
   "execution_count": null,
   "metadata": {},
   "outputs": [],
   "source": []
  }
 ],
 "metadata": {
  "kernelspec": {
   "display_name": "Python 3",
   "language": "python",
   "name": "python3"
  },
  "language_info": {
   "codemirror_mode": {
    "name": "ipython",
    "version": 3
   },
   "file_extension": ".py",
   "mimetype": "text/x-python",
   "name": "python",
   "nbconvert_exporter": "python",
   "pygments_lexer": "ipython3",
   "version": "3.12.3"
  }
 },
 "nbformat": 4,
 "nbformat_minor": 2
}
