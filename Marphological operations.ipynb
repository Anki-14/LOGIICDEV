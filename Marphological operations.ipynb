{
 "cells": [
  {
   "cell_type": "markdown",
   "metadata": {},
   "source": [
    "Morphological operations are techniques used to process and analyze shapes and structures within images, primarily used in binary and grayscale images. These operations rely on a structuring element (kernel) and modify the pixels of an image based on the shape and neighborhood of pixels. Here’s a list of common morphological operations along with a brief explanation of each:\n",
    "\n",
    "1. Erosion:\n",
    "Purpose: Shrinks the objects in an image.\n",
    "Effect: Removes pixels from the edges of objects, reducing the size of foreground elements and eliminating small noise.\n",
    "Application: Useful for removing small objects or isolating main shapes.\n",
    "2. Dilation:\n",
    "Purpose: Expands the objects in an image.\n",
    "Effect: Adds pixels to the edges of objects, increasing the size of foreground elements.\n",
    "Application: Often used after erosion to restore shapes that might have been reduced too much (used in noise reduction and closing gaps).\n",
    "3. Opening:\n",
    "Purpose: Removes small objects/noise while preserving the shape of larger objects.\n",
    "Effect: Erosion followed by dilation. It smooths the boundary of objects, breaks narrow connections, and removes noise.\n",
    "Application: Commonly used for background noise removal.\n",
    "4. Closing:\n",
    "Purpose: Closes small holes or gaps inside objects and connects disjoint objects.\n",
    "Effect: Dilation followed by erosion. It smooths contours and fills small gaps within the shapes.\n",
    "Application: Useful in filling small gaps in the foreground objects and smoothing the contour.\n",
    "5. Gradient:\n",
    "Purpose: Highlights the boundaries of objects.\n",
    "Effect: The difference between dilation and erosion. It gives the outline of objects by showing where the changes between foreground and background occur.\n",
    "Application: Used in edge detection to find the contours of objects.\n",
    "6. Top Hat (White Top Hat):\n",
    "Purpose: Extracts small bright regions from a background.\n",
    "Effect: Difference between the original image and its opening. It highlights small bright features or objects that differ from the surrounding area.\n",
    "Application: Used in light spot detection or background suppression.\n",
    "7. Black Hat:\n",
    "Purpose: Extracts small dark regions from a background.\n",
    "Effect: Difference between the closing of the image and the original image. It highlights small dark features against a lighter background.\n",
    "Application: Useful for detecting dark objects on a bright background.\n",
    "8. Hit-or-Miss:\n",
    "Purpose: Detects specific shapes in the binary image.\n",
    "Effect: Identifies locations of a particular shape by comparing the image to a structuring element.\n",
    "Application: Used for shape detection, pattern matching, and finding exact structures."
   ]
  },
  {
   "cell_type": "code",
   "execution_count": 3,
   "metadata": {},
   "outputs": [],
   "source": [
    "import cv2\n",
    "import numpy as np"
   ]
  },
  {
   "cell_type": "code",
   "execution_count": 8,
   "metadata": {},
   "outputs": [],
   "source": [
    "#erosion\n",
    "img=cv2.imread(r\"images\\\\mor[h_op.png\")\n",
    "img=cv2.resize(img,(300,300))\n",
    "m=np.ones((5,5),np.int8)\n",
    "\n",
    "er=cv2.erode(img,m,iterations=2)\n",
    "\n",
    "cv2.imshow(\"original image\",img )\n",
    "cv2.imshow(\"erosed image\",er)\n",
    "cv2.waitKey(0)\n",
    "cv2.destroyAllWindows()"
   ]
  },
  {
   "cell_type": "code",
   "execution_count": 12,
   "metadata": {},
   "outputs": [],
   "source": [
    "#dilation\n",
    "img=cv2.imread(r\"images\\\\mor[h_op.png\")\n",
    "img=cv2.resize(img,(300,300))\n",
    "m=np.ones((5,5),np.int8)\n",
    "\n",
    "dl=cv2.dilate(img,m,iterations=1)\n",
    "\n",
    "cv2.imshow(\"original image\",img )\n",
    "cv2.imshow(\" dilated image\",dl)\n",
    "cv2.waitKey(0)\n",
    "cv2.destroyAllWindows()"
   ]
  },
  {
   "cell_type": "code",
   "execution_count": 16,
   "metadata": {},
   "outputs": [],
   "source": [
    "#morphological open \n",
    "img=cv2.imread(r\"images\\\\mor[h_op.png\")\n",
    "img=cv2.resize(img,(300,300))\n",
    "\n",
    "m=np.ones((15,15),np.int8)\n",
    "\n",
    "op=cv2.morphologyEx(img,cv2.MORPH_OPEN,m,iterations=2)\n",
    "\n",
    "cv2.imshow(\"original image\",img )\n",
    "cv2.imshow(\"open image\",op)\n",
    "cv2.waitKey(0)\n",
    "cv2.destroyAllWindows()"
   ]
  },
  {
   "cell_type": "code",
   "execution_count": 18,
   "metadata": {},
   "outputs": [],
   "source": [
    "#morphological close\n",
    "img=cv2.imread(r\"images\\\\mor[h_op.png\")\n",
    "img=cv2.resize(img,(300,300))\n",
    "\n",
    "m=np.ones((15,15),np.int8)\n",
    "\n",
    "cl=cv2.morphologyEx(img,cv2.MORPH_CLOSE,m,iterations=1)\n",
    "\n",
    "cv2.imshow(\"original image\",img )\n",
    "cv2.imshow(\"close image\",cl)\n",
    "cv2.waitKey(0)\n",
    "cv2.destroyAllWindows()"
   ]
  },
  {
   "cell_type": "code",
   "execution_count": 19,
   "metadata": {},
   "outputs": [],
   "source": [
    "#morphological gradient \n",
    "img=cv2.imread(r\"images\\\\mor[h_op.png\")\n",
    "img=cv2.resize(img,(300,300))\n",
    "\n",
    "m=np.ones((15,15),np.int8)\n",
    "\n",
    "cl=cv2.morphologyEx(img,cv2.MORPH_GRADIENT,m,iterations=1)\n",
    "\n",
    "cv2.imshow(\"original image\",img )\n",
    "cv2.imshow(\"close image\",cl)\n",
    "cv2.waitKey(0)\n",
    "cv2.destroyAllWindows()"
   ]
  },
  {
   "cell_type": "code",
   "execution_count": 20,
   "metadata": {},
   "outputs": [],
   "source": [
    "#morphological blackhat\n",
    "img=cv2.imread(r\"images\\\\mor[h_op.png\")\n",
    "img=cv2.resize(img,(300,300))\n",
    "\n",
    "m=np.ones((15,15),np.int8)\n",
    "\n",
    "cl=cv2.morphologyEx(img,cv2.MORPH_BLACKHAT,m,iterations=1)\n",
    "\n",
    "cv2.imshow(\"original image\",img )\n",
    "cv2.imshow(\"close image\",cl)\n",
    "cv2.waitKey(0)\n",
    "cv2.destroyAllWindows()"
   ]
  },
  {
   "cell_type": "code",
   "execution_count": 23,
   "metadata": {},
   "outputs": [],
   "source": [
    "#morphological whitehat \n",
    "img=cv2.imread(r\"images\\\\mor[h_op.png\")\n",
    "img=cv2.resize(img,(300,300))\n",
    "\n",
    "m=np.ones((15,15),np.int8)\n",
    "\n",
    "cl=cv2.morphologyEx(img,cv2.MORPH_TOPHAT,m,iterations=0)\n",
    "\n",
    "cv2.imshow(\"original image\",img )\n",
    "cv2.imshow(\"close image\",cl)\n",
    "cv2.waitKey(0)\n",
    "cv2.destroyAllWindows()"
   ]
  },
  {
   "cell_type": "code",
   "execution_count": null,
   "metadata": {},
   "outputs": [],
   "source": []
  }
 ],
 "metadata": {
  "kernelspec": {
   "display_name": "Python 3",
   "language": "python",
   "name": "python3"
  },
  "language_info": {
   "codemirror_mode": {
    "name": "ipython",
    "version": 3
   },
   "file_extension": ".py",
   "mimetype": "text/x-python",
   "name": "python",
   "nbconvert_exporter": "python",
   "pygments_lexer": "ipython3",
   "version": "3.12.3"
  }
 },
 "nbformat": 4,
 "nbformat_minor": 2
}
