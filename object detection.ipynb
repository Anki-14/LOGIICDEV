{
 "cells": [
  {
   "cell_type": "code",
   "execution_count": 1,
   "metadata": {},
   "outputs": [],
   "source": [
    "import cv2\n",
    "import numpy as np"
   ]
  },
  {
   "cell_type": "code",
   "execution_count": 2,
   "metadata": {},
   "outputs": [],
   "source": [
    "def nothing(x):\n",
    "    pass"
   ]
  },
  {
   "cell_type": "code",
   "execution_count": 18,
   "metadata": {},
   "outputs": [],
   "source": [
    "cv2.namedWindow(\"wscube\")\n",
    "cv2.createTrackbar(\"threshhold\",\"wscube\",0,255,nothing)\n",
    "\n",
    "cv2.createTrackbar(\"lb\",\"wscube\",0,255,nothing)\n",
    "cv2.createTrackbar(\"lg\",\"wscube\",0,255,nothing)\n",
    "cv2.createTrackbar(\"lr\",\"wscube\",0,255,nothing)\n",
    "\n",
    "cv2.createTrackbar(\"hb\",\"wscube\",255,255,nothing)\n",
    "cv2.createTrackbar(\"hg\",\"wscube\",255,255,nothing)\n",
    "cv2.createTrackbar(\"hr\",\"wscube\",255,255,nothing)\n",
    "\n",
    "cap=cv2.VideoCapture(0)\n",
    "while cap.isOpened():\n",
    "    r,frame=cap.read()\n",
    "    if r==True:\n",
    "\n",
    "        thr=cv2.getTrackbarPos(\"threshhold\",\"wscube\")\n",
    "\n",
    "        LB=cv2.getTrackbarPos(\"lb\",\"wscube\")\n",
    "        LG=cv2.getTrackbarPos(\"lg\",\"wscube\")\n",
    "        LR=cv2.getTrackbarPos(\"lr\",\"wscube\")\n",
    "\n",
    "        HB=cv2.getTrackbarPos(\"hb\",\"wscube\")\n",
    "        HG=cv2.getTrackbarPos(\"hg\",\"wscube\")\n",
    "        HR=cv2.getTrackbarPos(\"hr\",\"wscube\")\n",
    "\n",
    "        lower=np.array([LB,LG,LR])\n",
    "        upper=np.array([HB,HG,HR])\n",
    "    \n",
    "\n",
    "        frame=cv2.flip(frame,1)\n",
    "        frame=cv2.resize(frame,(400,400))\n",
    "        hsv=cv2.cvtColor(frame,cv2.COLOR_BGR2HSV)\n",
    "\n",
    "        m=cv2.inRange(hsv,lower,upper)\n",
    "\n",
    "        res=cv2.bitwise_and(frame,frame,mask=m)\n",
    "        fr=cv2.bitwise_not(res)\n",
    "\n",
    "        _,thi=cv2.threshold(m,thr,255,cv2.THRESH_BINARY)\n",
    "        cnt,hr=cv2.findContours(thi,cv2.RETR_TREE,cv2.CHAIN_APPROX_SIMPLE)\n",
    "\n",
    "        cv2.drawContours(frame,cnt,-1,(0,0,255),2)\n",
    "\n",
    "        cv2.imshow(\"threshhold\",thi)\n",
    "\n",
    "\n",
    "        # cv2.imshow(\"hsv\",hsv)\n",
    "        cv2.imshow(\"res\",res)\n",
    "        cv2.imshow(\"mask\",m)\n",
    "        cv2.imshow(\"ws\",frame)\n",
    "        if cv2.waitKey(25) & 0xff==ord(\"p\"):\n",
    "            break\n",
    "    else:\n",
    "        break\n",
    "\n",
    "\n",
    "cap.release()\n",
    "cv2.destroyAllWindows()"
   ]
  },
  {
   "cell_type": "markdown",
   "metadata": {},
   "source": []
  },
  {
   "cell_type": "code",
   "execution_count": null,
   "metadata": {},
   "outputs": [],
   "source": []
  }
 ],
 "metadata": {
  "kernelspec": {
   "display_name": "Python 3",
   "language": "python",
   "name": "python3"
  },
  "language_info": {
   "codemirror_mode": {
    "name": "ipython",
    "version": 3
   },
   "file_extension": ".py",
   "mimetype": "text/x-python",
   "name": "python",
   "nbconvert_exporter": "python",
   "pygments_lexer": "ipython3",
   "version": "3.12.3"
  }
 },
 "nbformat": 4,
 "nbformat_minor": 2
}
