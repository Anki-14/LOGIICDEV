{
 "cells": [
  {
   "cell_type": "code",
   "execution_count": 1,
   "metadata": {},
   "outputs": [
    {
     "name": "stderr",
     "output_type": "stream",
     "text": [
      "<>:2: SyntaxWarning: invalid escape sequence '\\i'\n",
      "<>:2: SyntaxWarning: invalid escape sequence '\\i'\n",
      "C:\\Users\\ADMIN\\AppData\\Local\\Temp\\ipykernel_12872\\193327315.py:2: SyntaxWarning: invalid escape sequence '\\i'\n",
      "  img=cv2.imread('images\\img2.jpeg')\n"
     ]
    }
   ],
   "source": [
    "import cv2\n",
    "img=cv2.imread('images\\img2.jpeg')"
   ]
  },
  {
   "cell_type": "code",
   "execution_count": 2,
   "metadata": {},
   "outputs": [],
   "source": [
    "img1=cv2.resize(img,(500,500))\n",
    "cv2.imshow(\"picture without any text on it\",img1)\n",
    "cv2.waitKey(0)\n",
    "cv2.destroyAllWindows()"
   ]
  },
  {
   "cell_type": "markdown",
   "metadata": {},
   "source": [
    "cv2.putText() in OpenCV is used to draw text on an image.\n",
    "\n",
    "cv2.putText(image, text, position, font, fontScale, color, thickness)\n",
    "\n",
    "\n",
    "Key Parameters:\n",
    "\n",
    "image: The image on which to write the text.\n",
    "\n",
    "\n",
    "text: The string you want to display.\n",
    "\n",
    "\n",
    "position: Coordinates (x, y) for the bottom-left corner of the text.\n",
    "\n",
    "\n",
    "font: Font type (e.g., cv2.FONT_HERSHEY_SIMPLEX).\n",
    "\n",
    "\n",
    "fontScale: Size of the text.\n",
    "\n",
    "\n",
    "color: Text color in BGR format (e.g., (255, 0, 0) for blue).\n",
    "\n",
    "\n",
    "thickness: Thickness of the text.\n"
   ]
  },
  {
   "cell_type": "code",
   "execution_count": 17,
   "metadata": {},
   "outputs": [],
   "source": [
    "import cv2\n",
    "img=cv2.imread(r'images\\img3.jpeg')\n",
    "if img is None:\n",
    "    print(\"Error: Image not found or failed to load\")\n",
    "img2=cv2.resize(img,(500,500))\n",
    "cv2.imshow(\"picture without any text on it\",img2)\n",
    "new_image=cv2.putText(img2, 'LOGIICDEV', (50, 50), cv2.FONT_HERSHEY_SIMPLEX, 1, (255, 0, 0), 2,8,False)\n",
    "cv2.imshow('\"text over image',new_image)\n",
    "cv2.waitKey(0)\n",
    "cv2.destroyAllWindows()"
   ]
  }
 ],
 "metadata": {
  "kernelspec": {
   "display_name": "Python 3",
   "language": "python",
   "name": "python3"
  },
  "language_info": {
   "codemirror_mode": {
    "name": "ipython",
    "version": 3
   },
   "file_extension": ".py",
   "mimetype": "text/x-python",
   "name": "python",
   "nbconvert_exporter": "python",
   "pygments_lexer": "ipython3",
   "version": "3.12.3"
  }
 },
 "nbformat": 4,
 "nbformat_minor": 2
}
