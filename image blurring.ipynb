{
 "cells": [
  {
   "cell_type": "markdown",
   "metadata": {},
   "source": [
    "In OpenCV, there are different types of blurring techniques used to smooth images and reduce noise. The common ones are Gaussian Blur (G Blur), Median Blur (M Blur), and Bilateral Filter (B Blur). Here's a short explanation of each:\n",
    "\n",
    "1. Gaussian Blur (G Blur)\n",
    "\n",
    "Function: cv2.GaussianBlur()\n",
    "\n",
    "How it works: Applies a Gaussian function (bell curve) to the image, which smooths the image by averaging pixel values, with more weight given to nearby pixels.\n",
    "\n",
    "Use case: Good for general noise reduction, especially when the noise is Gaussian distributed.\n",
    "\n",
    "2. Median Blur (M Blur)\n",
    "\n",
    "Function: cv2.medianBlur()\n",
    "\n",
    "How it works: Replaces each pixel with the median of its surrounding pixel values, based on the kernel size.\n",
    "\n",
    "Use case: Very effective at removing \"salt-and-pepper\" noise (random white and black \n",
    "pixels).\n",
    "\n",
    "3. Bilateral Filter (B Blur)\n",
    "\n",
    "Function: cv2.bilateralFilter()\n",
    "\n",
    "How it works: Reduces noise while preserving edges by applying a Gaussian filter in both spatial space (pixel proximity) and color space (similarity in color).\n",
    "\n",
    "Use case: Excellent for smoothing images while retaining sharp edges."
   ]
  },
  {
   "cell_type": "code",
   "execution_count": 11,
   "metadata": {},
   "outputs": [],
   "source": [
    "import cv2\n",
    "import numpy as np\n",
    "\n",
    "img=cv2.imread('images\\\\download.jpeg')\n",
    "r_img=cv2.resize(img,(300,300))\n",
    "g=cv2.GaussianBlur(r_img,(5,5),0)\n",
    "m=cv2.medianBlur(r_img,5)\n",
    "b=cv2.bilateralFilter(r_img,9,75,75)\n",
    "stack_img=np.hstack((r_img,g,m,b))\n",
    "cv2.imshow(\"blurring\", stack_img)\n",
    "cv2.waitKey(0)\n",
    "cv2.destroyAllWindows()\n"
   ]
  },
  {
   "cell_type": "code",
   "execution_count": null,
   "metadata": {},
   "outputs": [],
   "source": []
  }
 ],
 "metadata": {
  "kernelspec": {
   "display_name": "Python 3",
   "language": "python",
   "name": "python3"
  },
  "language_info": {
   "codemirror_mode": {
    "name": "ipython",
    "version": 3
   },
   "file_extension": ".py",
   "mimetype": "text/x-python",
   "name": "python",
   "nbconvert_exporter": "python",
   "pygments_lexer": "ipython3",
   "version": "3.12.3"
  }
 },
 "nbformat": 4,
 "nbformat_minor": 2
}
