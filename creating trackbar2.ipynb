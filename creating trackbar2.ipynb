{
 "cells": [
  {
   "cell_type": "code",
   "execution_count": 1,
   "metadata": {},
   "outputs": [],
   "source": [
    "import cv2\n",
    "import numpy as np\n",
    "def lgcdv(x):\n",
    "    pass"
   ]
  },
  {
   "cell_type": "code",
   "execution_count": 5,
   "metadata": {},
   "outputs": [],
   "source": [
    "black_img=np.zeros((500,500,3),np.uint8)*255\n",
    "cv2.namedWindow(\"bar\")\n",
    "cv2.createTrackbar(\"on\",\"bar\",0,100,lgcdv)\n",
    "while True:\n",
    "    cv2.imshow(\"bar\",black_img)\n",
    "    if cv2.waitKey(1) & 0xff==ord('p'):\n",
    "        break\n",
    "    on=cv2.getTrackbarPos(\"on\",\"bar\")\n",
    "    black_img[:]=[0,0,on]\n",
    "    \n",
    "cv2.destroyAllWindows()\n"
   ]
  },
  {
   "cell_type": "code",
   "execution_count": null,
   "metadata": {},
   "outputs": [],
   "source": []
  }
 ],
 "metadata": {
  "kernelspec": {
   "display_name": "Python 3",
   "language": "python",
   "name": "python3"
  },
  "language_info": {
   "codemirror_mode": {
    "name": "ipython",
    "version": 3
   },
   "file_extension": ".py",
   "mimetype": "text/x-python",
   "name": "python",
   "nbconvert_exporter": "python",
   "pygments_lexer": "ipython3",
   "version": "3.12.3"
  }
 },
 "nbformat": 4,
 "nbformat_minor": 2
}
