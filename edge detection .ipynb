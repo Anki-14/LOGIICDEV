{
 "cells": [
  {
   "cell_type": "markdown",
   "metadata": {},
   "source": [
    "\n",
    "Edge detection in OpenCV is commonly done using the Canny Edge Detection algorithm. It works in the following steps:\n",
    "\n",
    "Grayscale Conversion: Convert the image to grayscale.\n",
    "\n",
    "Gaussian Blur: Apply Gaussian blur to reduce noise.\n",
    "\n",
    "Edge Gradient Calculation: Use Sobel filters to find the intensity gradient of the image.\n",
    "\n",
    "Non-maximum Suppression: Thin out the edges.\n",
    "\n",
    "Double Thresholding: Classify strong, weak, and irrelevant edges.\n",
    "\n",
    "Edge Tracking: Finalize edges using hysteresis."
   ]
  },
  {
   "cell_type": "code",
   "execution_count": 39,
   "metadata": {},
   "outputs": [
    {
     "ename": "TypeError",
     "evalue": "'tuple' object is not callable",
     "output_type": "error",
     "traceback": [
      "\u001b[1;31m---------------------------------------------------------------------------\u001b[0m",
      "\u001b[1;31mTypeError\u001b[0m                                 Traceback (most recent call last)",
      "Cell \u001b[1;32mIn[39], line 6\u001b[0m\n\u001b[0;32m      4\u001b[0m img\u001b[38;5;241m=\u001b[39mcv2\u001b[38;5;241m.\u001b[39mimread(\u001b[38;5;124m'\u001b[39m\u001b[38;5;124mimages\u001b[39m\u001b[38;5;130;01m\\\\\u001b[39;00m\u001b[38;5;124mcat.jpg\u001b[39m\u001b[38;5;124m'\u001b[39m)\n\u001b[0;32m      5\u001b[0m r_img\u001b[38;5;241m=\u001b[39mcv2\u001b[38;5;241m.\u001b[39mresize(img,(\u001b[38;5;241m500\u001b[39m,\u001b[38;5;241m500\u001b[39m))\n\u001b[1;32m----> 6\u001b[0m \u001b[43mimg\u001b[49m\u001b[38;5;241;43m.\u001b[39;49m\u001b[43mshape\u001b[49m\u001b[43m(\u001b[49m\u001b[43m)\u001b[49m\n",
      "\u001b[1;31mTypeError\u001b[0m: 'tuple' object is not callable"
     ]
    }
   ],
   "source": [
    "import cv2\n",
    "import numpy as np\n",
    "\n",
    "img=cv2.imread('images\\\\cat.jpg')\n",
    "r_img=cv2.resize(img,(500,500))"
   ]
  },
  {
   "cell_type": "code",
   "execution_count": 38,
   "metadata": {},
   "outputs": [],
   "source": [
    "cv2.imshow('cat',r_img)\n",
    "cv2.waitKey(0)\n",
    "cv2.destroyAllWindows()"
   ]
  },
  {
   "cell_type": "code",
   "execution_count": 26,
   "metadata": {},
   "outputs": [],
   "source": [
    "#edge detection\n",
    "new_img=cv2.Canny(r_img,75,75)\n",
    "cv2.imshow('cat',new_img)\n",
    "cv2.waitKey(0)\n",
    "cv2.destroyAllWindows()"
   ]
  },
  {
   "cell_type": "markdown",
   "metadata": {},
   "source": [
    "Rotating image\n",
    "\n",
    "o rotate an image using OpenCV, you can use the cv2.getRotationMatrix2D function along with cv2.warpAffine\n",
    "\n",
    "Here’s a brief explanation of the two key OpenCV functions used for image rotation:\n",
    "\n",
    "1. cv2.getRotationMatrix2D(center, angle, scale)\n",
    "This function generates a 2x3 rotation matrix that is used to rotate an image.\n",
    "\n",
    "center: The point around which the image will be rotated. Typically, this is the center of the image, calculated as (width // 2, height // 2).\n",
    "\n",
    "angle: The rotation angle in degrees. Positive values rotate the image counterclockwise, and negative values rotate it clockwise.\n",
    "\n",
    "scale: This factor allows you to scale the image during the rotation. A value of 1.0 keeps the size the same, while higher values enlarge it and lower values shrink it.\n",
    "\n",
    "2. cv2.warpAffine(image, M, (width, height))\n",
    "This function applies the affine transformation (including rotation, translation, etc.) to the image using the matrix M.\n",
    "\n",
    "image: The input image you want to transform (rotate in this case).\n",
    "\n",
    "M: The transformation matrix, which you get from cv2.getRotationMatrix2D.\n",
    "\n",
    "(width, height): The size of the output image, usually kept the same as the original.\n",
    "\n",
    "\n",
    "\n",
    "\n",
    "cv2.getRotationMatrix2D creates the rotation matrix.\n",
    "cv2.warpAffine applies that matrix to the image to rotate it.\n",
    "\n",
    "\n",
    "\n",
    "\n",
    "\n",
    "\n"
   ]
  },
  {
   "cell_type": "code",
   "execution_count": 27,
   "metadata": {},
   "outputs": [],
   "source": [
    "w=r_img[0]\n",
    "h=r_img[1]"
   ]
  },
  {
   "cell_type": "code",
   "execution_count": 43,
   "metadata": {},
   "outputs": [],
   "source": [
    "m=cv2.getRotationMatrix2D((250,250),90,1)"
   ]
  },
  {
   "cell_type": "code",
   "execution_count": 45,
   "metadata": {},
   "outputs": [],
   "source": [
    "rot_img=cv2.warpAffine(r_img,m,(500,500))\n",
    "cv2.imshow('rotated img',rot_img)\n",
    "cv2.waitKey(0)\n",
    "cv2.destroyAllWindows()"
   ]
  },
  {
   "cell_type": "code",
   "execution_count": null,
   "metadata": {},
   "outputs": [],
   "source": []
  }
 ],
 "metadata": {
  "kernelspec": {
   "display_name": "Python 3",
   "language": "python",
   "name": "python3"
  },
  "language_info": {
   "codemirror_mode": {
    "name": "ipython",
    "version": 3
   },
   "file_extension": ".py",
   "mimetype": "text/x-python",
   "name": "python",
   "nbconvert_exporter": "python",
   "pygments_lexer": "ipython3",
   "version": "3.12.3"
  }
 },
 "nbformat": 4,
 "nbformat_minor": 2
}
