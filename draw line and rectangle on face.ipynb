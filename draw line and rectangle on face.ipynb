{
 "cells": [
  {
   "cell_type": "markdown",
   "metadata": {},
   "source": [
    "The cv2.line() function in OpenCV is used to draw a straight line on an image. This function allows you to specify the starting and ending points of the line, the color, thickness, and other optional parameters like line type.\n",
    "\n",
    "Parameters:\n",
    "\n",
    "img: The image on which the line is to be drawn. This can be a NumPy array representing an image.\n",
    "\n",
    "pt1: The starting point of the line, represented as a tuple of coordinates (x1, y1).\n",
    "\n",
    "pt2: The ending point of the line, represented as a tuple of coordinates (x2, y2).\n",
    "\n",
    "color: The color of the line in BGR format (blue, green, red). For example, (255, 0, 0) represents blue.\n",
    "\n",
    "thickness: (Optional) The thickness of the line in pixels. Default is 1.\n",
    "\n",
    "lineType: (Optional) The type of the line. The default is cv2.LINE_8. Other options are cv2.LINE_4 and cv2.LINE_AA (anti-aliased line).\n"
   ]
  },
  {
   "cell_type": "code",
   "execution_count": 2,
   "metadata": {},
   "outputs": [
    {
     "name": "stderr",
     "output_type": "stream",
     "text": [
      "<>:2: SyntaxWarning: invalid escape sequence '\\d'\n",
      "<>:2: SyntaxWarning: invalid escape sequence '\\d'\n",
      "C:\\Users\\ADMIN\\AppData\\Local\\Temp\\ipykernel_6032\\2905667042.py:2: SyntaxWarning: invalid escape sequence '\\d'\n",
      "  img=cv2.imread('images\\download.jpeg')\n"
     ]
    }
   ],
   "source": [
    "import cv2\n",
    "img=cv2.imread('images\\download.jpeg')"
   ]
  },
  {
   "cell_type": "code",
   "execution_count": 11,
   "metadata": {},
   "outputs": [],
   "source": [
    "old_image=cv2.resize(img,(700,500))#(w,H)\n",
    "cv2.imshow(\"picture without any line on it\",old_image)\n",
    "new_image=cv2.line(old_image, pt1=(300,100),pt2=(500,100),color=(0,255,0),thickness=4,lineType=4)\n",
    "cv2.imshow('\"line over image',new_image)\n",
    "cv2.waitKey(0)\n",
    "cv2.destroyAllWindows()\n"
   ]
  },
  {
   "cell_type": "markdown",
   "metadata": {},
   "source": [
    "putting rectangle on picture \n",
    "\n",
    "\n",
    "1. cv2.rectangle()\n",
    "\n",
    "The cv2.rectangle() function in OpenCV is used to draw a rectangle on an image. You can specify the top-left and bottom-right corners of the rectangle, its color, thickness, and other optional parameters.\n",
    "\n",
    "Parameters:\n",
    "\n",
    "img: The image on which the rectangle is to be drawn. This can be a NumPy array representing an image.\n",
    "\n",
    "pt1: The top-left corner of the rectangle, represented as a tuple of coordinates (x1, y1).\n",
    "\n",
    "pt2: The bottom-right corner of the rectangle, represented as a tuple of coordinates (x2, y2).\n",
    "\n",
    "color: The color of the rectangle in BGR format (blue, green, red). For example, (0, 255, 0) represents green.\n",
    "\n",
    "thickness: (Optional) Thickness of the rectangle's border. If you pass -1, it fills the rectangle. The default value is 1 pixel."
   ]
  },
  {
   "cell_type": "code",
   "execution_count": 19,
   "metadata": {},
   "outputs": [],
   "source": [
    "old_image=cv2.resize(img,(700,500))#(w,H)\n",
    "cv2.imshow(\"picture without any shape on it\",old_image)\n",
    "new_image=cv2.rectangle(old_image, pt1=(300,70),pt2=(550,300),color=(255,0,0),thickness=4,lineType=16)\n",
    "cv2.imshow('rectangle over image',new_image)\n",
    "cv2.waitKey(0)\n",
    "cv2.destroyAllWindows()\n"
   ]
  },
  {
   "cell_type": "markdown",
   "metadata": {},
   "source": [
    "2. cv2.circle()\n",
    "\n",
    "The cv2.circle() function in OpenCV is used to draw a circle on an image. You can specify the center, radius, color, thickness, and other optional parameters.\n",
    "\n",
    "Parameters:\n",
    "\n",
    "img: The image on which the circle is to be drawn.\n",
    "\n",
    "center: The center of the circle, represented as a tuple of coordinates (x, y).\n",
    "\n",
    "radius: The radius of the circle in pixels.\n",
    "\n",
    "color: The color of the circle in BGR format (blue, green, red). For example, (0, 0, 255) represents red.\n",
    "\n",
    "thickness: (Optional) The thickness of the circle's border. If you pass -1, it fills the circle. The default value is 1 pixel."
   ]
  },
  {
   "cell_type": "code",
   "execution_count": 30,
   "metadata": {},
   "outputs": [],
   "source": [
    "old_image=cv2.resize(img,(700,500))#(w,H)\n",
    "cv2.imshow(\"picture without any shape on it\",old_image)\n",
    "new_image=cv2.circle(old_image, (390,180),120,(0,0,255),5)\n",
    "cv2.imshow('circle over image',new_image)\n",
    "cv2.waitKey(0)\n",
    "cv2.destroyAllWindows()\n"
   ]
  },
  {
   "cell_type": "markdown",
   "metadata": {},
   "source": [
    "with this same syntax we can draw different shapes on the images and this is used in face detection "
   ]
  }
 ],
 "metadata": {
  "kernelspec": {
   "display_name": "Python 3",
   "language": "python",
   "name": "python3"
  },
  "language_info": {
   "codemirror_mode": {
    "name": "ipython",
    "version": 3
   },
   "file_extension": ".py",
   "mimetype": "text/x-python",
   "name": "python",
   "nbconvert_exporter": "python",
   "pygments_lexer": "ipython3",
   "version": "3.12.3"
  }
 },
 "nbformat": 4,
 "nbformat_minor": 2
}
