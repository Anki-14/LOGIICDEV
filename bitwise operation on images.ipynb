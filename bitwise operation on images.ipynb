{
 "cells": [
  {
   "cell_type": "markdown",
   "metadata": {},
   "source": [
    "Bitwise Operations on Images in OpenCV\n",
    "Bitwise operations in OpenCV allow you to perform operations like AND, OR, XOR, and NOT at the binary level on the pixels of two images or a mask. These operations are often used to combine or mask specific parts of images, allowing for tasks like blending, masking, and creating regions of interest (ROI).\n",
    "\n",
    "\n",
    "Common Bitwise Operations:\n",
    "\n",
    "1. Bitwise AND: cv2.bitwise_and()\n",
    "\n",
    "Explanation: This operation compares corresponding pixels from two images at the binary level and returns a new image where the bits are set to 1 only if the corresponding bits from both images are 1. In other words, it keeps the overlapping region of two images where both have non-zero pixel values.\n",
    "\n",
    "Use Case: Masking one image with another or extracting regions of interest.\n",
    "\n",
    "2. Bitwise OR: cv2.bitwise_or()\n",
    "\n",
    "Explanation: This operation compares corresponding pixels from two images and returns a new image where the bits are set to 1 if either of the corresponding bits from the two images is 1. It essentially combines both images.\n",
    "\n",
    "Use Case: Combining two images to create a composite.\n",
    "\n",
    "3. Bitwise XOR: cv2.bitwise_xor()\n",
    "\n",
    "Explanation: This operation compares corresponding pixels from two images and returns a new image where the bits are set to 1 if one (but not both) of the corresponding bits is 1. It essentially highlights the non-overlapping regions between two images.\n",
    "\n",
    "Use Case: Identifying differences between two images or highlighting non-common regions.\n",
    "\n",
    "4. Bitwise NOT: cv2.bitwise_not()\n",
    "\n",
    "Explanation: This operation inverts the bits of an image, flipping 0s to 1s and 1s to 0s. In image processing terms, it inverts the pixel values, turning black to white and white to black (and similarly for colors).\n",
    "\n",
    "Use Case: Inverting an image or creating negative effects.\n",
    "\n",
    "Parameters Explanation for Bitwise Functions:\n",
    "\n",
    "Each bitwise operation takes the following parameters:\n",
    "\n",
    "src1: The first input image or mask. This is usually a binary image (black and white), but it can be a grayscale or colored image too.\n",
    "\n",
    "src2: The second input image (for AND, OR, XOR). The size of src2 should match src1.\n",
    "\n",
    "mask: (Optional) A mask specifying where the operation should be applied. Only pixels where the mask is non-zero will be operated upon.\n",
    "\n",
    "dst: (Optional) The destination image (can be the same size as the input images)."
   ]
  },
  {
   "cell_type": "markdown",
   "metadata": {},
   "source": [
    "\n",
    "\n",
    "Black=0\n",
    "\n",
    "white=1"
   ]
  },
  {
   "cell_type": "code",
   "execution_count": 10,
   "metadata": {},
   "outputs": [],
   "source": [
    "import cv2\n",
    "import numpy as np\n",
    "img1=cv2.imread('images\\\\binaryimg1.png')\n",
    "img2=cv2.imread('images\\\\binaryimg2.png')"
   ]
  },
  {
   "cell_type": "code",
   "execution_count": 14,
   "metadata": {},
   "outputs": [],
   "source": [
    "new_img1=cv2.resize(img1,(500,500))#(w,H)\n",
    "# cv2.imshow(\"Binary imae 1\",new_img1)\n",
    "new_img2=cv2.resize(img2,(500,500))#(w,H)\n",
    "# cv2.imshow(\"Binary imae 2\",new_img2)\n",
    "new_img3=cv2.bitwise_and(new_img1,new_img2)\n",
    "result=np.hstack((new_img1,new_img2,new_img3))\n",
    "cv2.imshow(\"result\",result)\n",
    "cv2.waitKey(0)\n",
    "cv2.destroyAllWindows()"
   ]
  },
  {
   "cell_type": "code",
   "execution_count": 15,
   "metadata": {},
   "outputs": [],
   "source": [
    "new_img1=cv2.resize(img1,(500,500))#(w,H)\n",
    "# cv2.imshow(\"Binary imae 1\",new_img1)\n",
    "new_img2=cv2.resize(img2,(500,500))#(w,H)\n",
    "# cv2.imshow(\"Binary imae 2\",new_img2)\n",
    "new_img3=cv2.bitwise_or(new_img1,new_img2)\n",
    "result=np.hstack((new_img1,new_img2,new_img3))\n",
    "cv2.imshow(\"result\",result)\n",
    "cv2.waitKey(0)\n",
    "cv2.destroyAllWindows()"
   ]
  },
  {
   "cell_type": "code",
   "execution_count": 18,
   "metadata": {},
   "outputs": [],
   "source": [
    "new_img1=cv2.resize(img1,(500,500))#(w,H)\n",
    "# cv2.imshow(\"Binary imae 1\",new_img1)\n",
    "# new_img2=cv2.resize(img2,(500,500))#(w,H)\n",
    "# cv2.imshow(\"Binary imae 2\",new_img2)\n",
    "new_img3=cv2.bitwise_not(new_img1)\n",
    "result=np.hstack((new_img1,new_img3))\n",
    "cv2.imshow(\"result\",result)\n",
    "cv2.waitKey(0)\n",
    "cv2.destroyAllWindows()"
   ]
  },
  {
   "cell_type": "code",
   "execution_count": null,
   "metadata": {},
   "outputs": [],
   "source": []
  }
 ],
 "metadata": {
  "kernelspec": {
   "display_name": "Python 3",
   "language": "python",
   "name": "python3"
  },
  "language_info": {
   "codemirror_mode": {
    "name": "ipython",
    "version": 3
   },
   "file_extension": ".py",
   "mimetype": "text/x-python",
   "name": "python",
   "nbconvert_exporter": "python",
   "pygments_lexer": "ipython3",
   "version": "3.12.3"
  }
 },
 "nbformat": 4,
 "nbformat_minor": 2
}
