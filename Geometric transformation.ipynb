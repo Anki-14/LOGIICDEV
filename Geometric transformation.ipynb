{
 "cells": [
  {
   "cell_type": "markdown",
   "metadata": {},
   "source": [
    "Geometric transformations in image processing involve modifying the spatial properties of an image, such as its size, position, and orientation, while preserving its pixel intensities. These transformations are widely used in tasks such as object detection, image alignment, registration, and more. Here are the main types of geometric transformations:\n",
    "\n",
    "1. Translation:\n",
    "Purpose: Shifts an image from one location to another in the coordinate plane.\n",
    "How it works: Moves each pixel of the image by a specified distance along the x-axis and y-axis.\n",
    "Application: Useful for shifting objects within an image without altering their shape or size.\n",
    "2. Rotation:\n",
    "Purpose: Rotates the image around a point, typically the center of the image.\n",
    "How it works: Applies a rotation matrix to each pixel, moving it in a circular path around the origin (or a specified point).\n",
    "Application: Used to align images or rotate objects for correct orientation.\n",
    "Example: Rotating an image by 90° or 180°.\n",
    "3. Scaling:\n",
    "Purpose: Resizes the image by increasing or decreasing its dimensions.\n",
    "How it works: Multiplies the coordinates of each pixel by scaling factors along the x and y axes (can be the same or different, resulting in uniform or non-uniform scaling).\n",
    "Application: Commonly used for zooming in/out, resizing images, or changing resolution.\n",
    "Example: Enlarging a small image for display."
   ]
  },
  {
   "cell_type": "code",
   "execution_count": 1,
   "metadata": {},
   "outputs": [],
   "source": [
    "import cv2"
   ]
  },
  {
   "cell_type": "code",
   "execution_count": 7,
   "metadata": {},
   "outputs": [],
   "source": [
    "org_v=cv2.VideoCapture(r\"C:\\\\Users\\ADMIN\\\\OneDrive\\\\Desktop\\\\LOGIICDEV\\\\images\\\\Educational.mp4\")\n",
    "sub_m=cv2.createBackgroundSubtractorMOG2()\n",
    "while True:\n",
    "    r,frame=org_v.read()\n",
    "    if r==True:\n",
    "        frame=cv2.resize(frame,(800,500))\n",
    "        sub_v=sub_m.apply(frame)\n",
    "\n",
    "        cv2.imshow(\"sub\",sub_v)\n",
    "        cv2.imshow(\"org\",frame)\n",
    "\n",
    "        if cv2.waitKey(5)& 0xff==ord(\"p\"):\n",
    "            break\n",
    "    else:\n",
    "        break\n",
    "org_v.release()\n",
    "cv2.destroyAllWindows()"
   ]
  },
  {
   "cell_type": "code",
   "execution_count": 10,
   "metadata": {},
   "outputs": [
    {
     "name": "stdout",
     "output_type": "stream",
     "text": [
      "(200, 200, 3)\n"
     ]
    }
   ],
   "source": [
    "#making image black from colorful\n",
    "img=cv2.imread(r\"C:\\\\Users\\\\ADMIN\\\\OneDrive\\\\Desktop\\\\LOGIICDEV\\\\images\\\\download.jpeg\")\n",
    "img=cv2.resize(img,(200,200))\n",
    "print(img.shape)"
   ]
  },
  {
   "cell_type": "code",
   "execution_count": 11,
   "metadata": {},
   "outputs": [],
   "source": [
    "new=cv2.cvtColor(img,cv2.COLOR_BGR2GRAY)\n",
    "\n",
    "\n",
    "cv2.imshow(\"org\",img)\n",
    "cv2.imshow(\"new\",new)\n",
    "cv2.waitKey(0)\n",
    "cv2.destroyAllWindows()"
   ]
  },
  {
   "cell_type": "code",
   "execution_count": 23,
   "metadata": {},
   "outputs": [
    {
     "name": "stdout",
     "output_type": "stream",
     "text": [
      "(200, 200, 3)\n"
     ]
    }
   ],
   "source": [
    "#cropping an image\n",
    "#making image black from colorful\n",
    "img=cv2.imread(r\"C:\\\\Users\\\\ADMIN\\\\OneDrive\\\\Desktop\\\\LOGIICDEV\\\\images\\\\download.jpeg\")\n",
    "img=cv2.resize(img,(200,200))\n",
    "print(img.shape)\n",
    "\n",
    "crop=img[10:,60:]\n",
    "#img[y1:y2 ,x1:x2]\n",
    "cv2.imshow(\"org\",img)\n",
    "cv2.imshow(\"new\",crop)\n",
    "cv2.waitKey(0)\n",
    "cv2.destroyAllWindows()\n"
   ]
  },
  {
   "cell_type": "code",
   "execution_count": 27,
   "metadata": {},
   "outputs": [
    {
     "name": "stdout",
     "output_type": "stream",
     "text": [
      "(183, 275, 3)\n"
     ]
    }
   ],
   "source": [
    "#rotating image\n",
    "import numpy as np\n",
    "img=cv2.imread(r\"C:\\\\Users\\\\ADMIN\\\\OneDrive\\\\Desktop\\\\LOGIICDEV\\\\images\\\\download.jpeg\")\n",
    "org_img=cv2.resize(img,(200,200))\n",
    "print(img.shape)\n",
    "\n",
    "img1=cv2.flip(img,1)#yaxis\n",
    "img1 = cv2.resize(img1, (200, 200))\n",
    "\n",
    "img2=cv2.flip(img,0)#xaxis\n",
    "img2 = cv2.resize(img2, (200, 200))\n",
    "\n",
    "img3=cv2.flip(img,-1)\n",
    "img3 = cv2.resize(img3, (200, 200))\n",
    "\n",
    "img4=cv2.rotate(org_img,cv2.ROTATE_90_COUNTERCLOCKWISE)\n",
    "img4 = cv2.resize(img4, (200, 200))\n",
    "\n",
    "img5=cv2.transpose(org_img)\n",
    "img5 = cv2.resize(img5, (200, 200))  # Resize to match original\n",
    "\n",
    "\n",
    "#img[y1:y2 ,x1:x2]\n",
    "stack=np.hstack((org_img,img1,img2,img3,img4,img5))\n",
    "\n",
    "cv2.imshow(\"rotation \",stack)\n",
    "cv2.waitKey(0)\n",
    "cv2.destroyAllWindows()\n"
   ]
  },
  {
   "cell_type": "code",
   "execution_count": null,
   "metadata": {},
   "outputs": [],
   "source": []
  }
 ],
 "metadata": {
  "kernelspec": {
   "display_name": "Python 3",
   "language": "python",
   "name": "python3"
  },
  "language_info": {
   "codemirror_mode": {
    "name": "ipython",
    "version": 3
   },
   "file_extension": ".py",
   "mimetype": "text/x-python",
   "name": "python",
   "nbconvert_exporter": "python",
   "pygments_lexer": "ipython3",
   "version": "3.12.3"
  }
 },
 "nbformat": 4,
 "nbformat_minor": 2
}
