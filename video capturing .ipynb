{
 "cells": [
  {
   "cell_type": "markdown",
   "metadata": {},
   "source": [
    "This code captures and plays back a video file.\n",
    "Each frame is resized to 500x500 pixels and displayed in a window named \"logiicdev.\"\n",
    "If the user presses the 'p' key during playback, the loop breaks, stopping the video.\n",
    "After the video finishes or is manually stopped, the resources are released."
   ]
  },
  {
   "cell_type": "markdown",
   "metadata": {},
   "source": [
    "reading video from the files and adjusting its speed"
   ]
  },
  {
   "cell_type": "code",
   "execution_count": 1,
   "metadata": {},
   "outputs": [],
   "source": [
    "import cv2"
   ]
  },
  {
   "cell_type": "code",
   "execution_count": 4,
   "metadata": {},
   "outputs": [],
   "source": [
    "cap=cv2.VideoCapture(r\"C:\\Users\\ADMIN\\Videos\\Screen Recordings\\Screen Recording 2024-09-15 142424.mp4\")\n",
    "while cap.isOpened():\n",
    "    r,frame=cap.read()\n",
    "    if r==True:\n",
    "        frame=cv2.resize(frame,(500,500))\n",
    "        cv2.imshow(\"logiicdev\",frame)\n",
    "        if cv2.waitKey(1) & 0xff==ord(\"p\"):\n",
    "            break\n",
    "    else:\n",
    "        break\n",
    "\n",
    "cap.release()\n",
    "cv2.destroyAllWindows()\n"
   ]
  },
  {
   "cell_type": "markdown",
   "metadata": {},
   "source": [
    "below code switch on the camera for vdo capturing"
   ]
  },
  {
   "cell_type": "code",
   "execution_count": 5,
   "metadata": {},
   "outputs": [],
   "source": [
    "\n",
    "cap=cv2.VideoCapture(0)\n",
    "while cap.isOpened():\n",
    "    r,frame=cap.read()\n",
    "    if r==True:\n",
    "        frame=cv2.resize(frame,(500,500))\n",
    "        cv2.imshow(\"logiicdev\",frame)\n",
    "        if cv2.waitKey(1) & 0xff==ord(\"p\"):\n",
    "            break\n",
    "    else:\n",
    "        break\n",
    "\n",
    "cap.release()\n",
    "cv2.destroyAllWindows()\n"
   ]
  },
  {
   "cell_type": "markdown",
   "metadata": {},
   "source": [
    "Explanation of the Code:\n",
    "Opening the Camera:\n",
    "\n",
    "The code opens the default camera (webcam) using cv2.VideoCapture(0). The number 0 represents the primary camera. If you want to use another camera, you can change the index.\n",
    "Looping Through the Frames:\n",
    "\n",
    "The code uses a while loop to continuously capture frames from the webcam. The loop runs as long as the camera is open.\n",
    "Capturing Frames:\n",
    "\n",
    "Inside the loop, the code captures each frame from the webcam in real-time. It stores the frame in a variable for further processing and displays the captured frame only if the read operation is successful.\n",
    "Resizing the Frame:\n",
    "\n",
    "The captured frame is resized to 500x500 pixels to standardize the output or possibly reduce the display size for efficiency.\n",
    "Displaying the Frame:\n",
    "\n",
    "The resized frame is displayed in a window named \"logiicdev,\" which continuously updates to show the real-time feed from the camera.\n",
    "Keyboard Input for Stopping the Stream:\n",
    "\n",
    "The code waits for a key press, specifically checking if the 'p' key is pressed. When the user presses 'p', the loop breaks, stopping the webcam stream.\n",
    "Releasing Resources:\n",
    "\n",
    "After the loop ends, the camera is released to free up the resource for other applications, and any windows that were opened by OpenCV are closed."
   ]
  },
  {
   "cell_type": "code",
   "execution_count": null,
   "metadata": {},
   "outputs": [],
   "source": []
  }
 ],
 "metadata": {
  "kernelspec": {
   "display_name": "Python 3",
   "language": "python",
   "name": "python3"
  },
  "language_info": {
   "codemirror_mode": {
    "name": "ipython",
    "version": 3
   },
   "file_extension": ".py",
   "mimetype": "text/x-python",
   "name": "python",
   "nbconvert_exporter": "python",
   "pygments_lexer": "ipython3",
   "version": "3.12.3"
  }
 },
 "nbformat": 4,
 "nbformat_minor": 2
}
