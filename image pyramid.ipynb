{
 "cells": [
  {
   "cell_type": "markdown",
   "metadata": {},
   "source": [
    "An image pyramid is a multi-scale representation of an image in computer vision. It involves creating a series of images that are successively reduced or expanded in size, forming a pyramid-like structure."
   ]
  },
  {
   "cell_type": "code",
   "execution_count": 2,
   "metadata": {},
   "outputs": [],
   "source": [
    "import cv2\n",
    "import numpy as np"
   ]
  },
  {
   "cell_type": "code",
   "execution_count": 7,
   "metadata": {},
   "outputs": [
    {
     "name": "stdout",
     "output_type": "stream",
     "text": [
      "(500, 500, 3)\n"
     ]
    }
   ],
   "source": [
    "img=cv2.imread(r\"C:\\Users\\ADMIN\\OneDrive\\Desktop\\LOGIICDEV\\images\\download.jpeg\")\n",
    "img=cv2.resize(img,(500,500))\n",
    "print(img.shape)"
   ]
  },
  {
   "cell_type": "code",
   "execution_count": 8,
   "metadata": {},
   "outputs": [
    {
     "name": "stdout",
     "output_type": "stream",
     "text": [
      "(500, 500, 3)\n",
      "(500, 500, 3)\n"
     ]
    }
   ],
   "source": [
    "new=cv2.pyrDown(img)\n",
    "print(img.shape)\n",
    "\n",
    "new1=cv2.pyrDown(new)\n",
    "print(img.shape)\n",
    "\n",
    "cv2.imshow(\"original image\",img)\n",
    "cv2.imshow(\"level 1\",new)\n",
    "cv2.imshow(\"level 2\",new1)\n",
    "\n",
    "cv2.waitKey(0)\n",
    "cv2.destroyAllWindows()"
   ]
  },
  {
   "cell_type": "code",
   "execution_count": null,
   "metadata": {},
   "outputs": [],
   "source": []
  }
 ],
 "metadata": {
  "kernelspec": {
   "display_name": "Python 3",
   "language": "python",
   "name": "python3"
  },
  "language_info": {
   "codemirror_mode": {
    "name": "ipython",
    "version": 3
   },
   "file_extension": ".py",
   "mimetype": "text/x-python",
   "name": "python",
   "nbconvert_exporter": "python",
   "pygments_lexer": "ipython3",
   "version": "3.12.3"
  }
 },
 "nbformat": 4,
 "nbformat_minor": 2
}
