{
 "cells": [
  {
   "cell_type": "code",
   "execution_count": 2,
   "metadata": {},
   "outputs": [],
   "source": [
    "import cv2\n",
    "import numpy as np"
   ]
  },
  {
   "cell_type": "code",
   "execution_count": 3,
   "metadata": {},
   "outputs": [],
   "source": [
    "img=cv2.imread(r\"C:\\\\Users\\ADMIN\\\\OneDrive\\Desktop\\\\LOGIICDEV\\\\images\\\\rose.jpg\")\n",
    "img=cv2.resize(img,(500,400))\n",
    "\n",
    "def wscube(x):\n",
    "    pass\n",
    "\n",
    "cv2.namedWindow(\"demo\")\n",
    "cv2.createTrackbar(\"lb\",\"demo\",0,255,wscube)\n",
    "cv2.createTrackbar(\"lg\",\"demo\",0,255,wscube)\n",
    "cv2.createTrackbar(\"lr\",\"demo\",0,255,wscube)\n",
    "\n",
    "cv2.createTrackbar(\"ub\",\"demo\",0,255,wscube)\n",
    "cv2.createTrackbar(\"ug\",\"demo\",0,255,wscube)\n",
    "cv2.createTrackbar(\"ur\",\"demo\",0,255,wscube)\n",
    "\n",
    "while True:\n",
    "    HSV_image=cv2.cvtColor(img,cv2.COLOR_BGR2HSV)\n",
    "\n",
    "    Lb=cv2.getTrackbarPos(\"lb\",\"demo\")\n",
    "    Lg=cv2.getTrackbarPos(\"lg\",\"demo\")\n",
    "    Lr=cv2.getTrackbarPos(\"lr\",\"demo\")\n",
    "\n",
    "    Ub=cv2.getTrackbarPos(\"ub\",\"demo\")\n",
    "    Ug=cv2.getTrackbarPos(\"ug\",\"demo\")\n",
    "    Ur=cv2.getTrackbarPos(\"ur\",\"demo\")\n",
    "    \n",
    "    lo=np.array([Lb,Lg,Lr])\n",
    "    up=np.array([Ub,Ug,Ur])\n",
    "\n",
    "    masks=cv2.inRange(HSV_image,lo,up)\n",
    "\n",
    "    res=cv2.bitwise_and(img,img,mask=masks)\n",
    "\n",
    "    cv2.imshow(\"res\",res)\n",
    "    cv2.imshow(\"mask\",masks)\n",
    "    cv2.imshow(\"hsv\",HSV_image)\n",
    "    cv2.imshow(\"wscube\",img)\n",
    "\n",
    "    if cv2.waitKey(1) & 0xff==ord(\"p\"):\n",
    "        break\n",
    "cv2.destroyAllWindows()"
   ]
  },
  {
   "cell_type": "code",
   "execution_count": null,
   "metadata": {},
   "outputs": [],
   "source": []
  }
 ],
 "metadata": {
  "kernelspec": {
   "display_name": "Python 3",
   "language": "python",
   "name": "python3"
  },
  "language_info": {
   "codemirror_mode": {
    "name": "ipython",
    "version": 3
   },
   "file_extension": ".py",
   "mimetype": "text/x-python",
   "name": "python",
   "nbconvert_exporter": "python",
   "pygments_lexer": "ipython3",
   "version": "3.12.3"
  }
 },
 "nbformat": 4,
 "nbformat_minor": 2
}
