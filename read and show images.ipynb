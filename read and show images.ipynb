{
 "cells": [
  {
   "cell_type": "code",
   "execution_count": 11,
   "metadata": {},
   "outputs": [],
   "source": [
    "#importing necessary library\n",
    "import cv2\n"
   ]
  },
  {
   "cell_type": "code",
   "execution_count": 12,
   "metadata": {},
   "outputs": [],
   "source": [
    "#read image\n",
    "img=cv2.imread(r'C:\\Users\\ADMIN\\PycharmProjects\\LOGIICDEV\\IMAGE PROCESSING\\rose.jpg')"
   ]
  },
  {
   "cell_type": "code",
   "execution_count": 13,
   "metadata": {},
   "outputs": [],
   "source": [
    "#we need to resize image as it might have big size\n",
    "re_img=cv2.resize(img,(500,500))"
   ]
  },
  {
   "cell_type": "code",
   "execution_count": 14,
   "metadata": {},
   "outputs": [],
   "source": [
    "#imshow function displays picture on screen\n",
    "#we have assigned logiicdev name to the window\n",
    "cv2.imshow(\"logiicdev\",re_img)"
   ]
  },
  {
   "cell_type": "markdown",
   "metadata": {},
   "source": [
    "waitKey() is a function in OpenCV (used for image processing) that waits for a key press for a specified amount of time.\n",
    "\n",
    "Syntax: cv2.waitKey(delay)\n",
    "Parameters: delay is the time in milliseconds the program waits for a key event. If delay is 0, it waits indefinitely\n"
   ]
  },
  {
   "cell_type": "code",
   "execution_count": 15,
   "metadata": {},
   "outputs": [
    {
     "data": {
      "text/plain": [
       "32"
      ]
     },
     "execution_count": 15,
     "metadata": {},
     "output_type": "execute_result"
    }
   ],
   "source": [
    "#waitkey() funtion is used to keep image displaying , we can assign time for display\n",
    "#if we assign 0 then the will diplay until we press any key on keyboard\n",
    "cv2.waitKey(0)"
   ]
  },
  {
   "cell_type": "markdown",
   "metadata": {},
   "source": [
    "In OpenCV, destroyAllWindows() and destroyWindow() are used to close image display windows, but they serve slightly different purposes.\n",
    "\n",
    "destroyAllWindows()\n",
    "Closes all OpenCV windows that are currently open.\n",
    "Use this when you want to close every window that has been created during the program.\n",
    "\n",
    "destroyWindow(window_name)\n",
    "Closes only the specific window with the given name.\n",
    "Use this when you want to close a single window and keep others open."
   ]
  },
  {
   "cell_type": "code",
   "execution_count": 16,
   "metadata": {},
   "outputs": [],
   "source": [
    "#destroyallwindows() function is used to destroy opened windows\n",
    "cv2.destroyAllWindows()"
   ]
  },
  {
   "cell_type": "code",
   "execution_count": 17,
   "metadata": {},
   "outputs": [
    {
     "name": "stdout",
     "output_type": "stream",
     "text": [
      "[[[ 7 14 11]\n",
      "  [ 7 14 11]\n",
      "  [ 6 13 10]\n",
      "  ...\n",
      "  [19 63 32]\n",
      "  [19 63 32]\n",
      "  [19 63 32]]\n",
      "\n",
      " [[ 7 14 11]\n",
      "  [ 6 13 10]\n",
      "  [ 6 13 10]\n",
      "  ...\n",
      "  [21 65 34]\n",
      "  [21 65 34]\n",
      "  [21 65 34]]\n",
      "\n",
      " [[ 7 14 11]\n",
      "  [ 6 13 10]\n",
      "  [ 6 13 10]\n",
      "  ...\n",
      "  [20 64 35]\n",
      "  [20 64 35]\n",
      "  [20 64 35]]\n",
      "\n",
      " ...\n",
      "\n",
      " [[27 58 31]\n",
      "  [27 58 31]\n",
      "  [27 58 31]\n",
      "  ...\n",
      "  [ 6 14  7]\n",
      "  [ 6 14  7]\n",
      "  [ 6 14  7]]\n",
      "\n",
      " [[27 58 31]\n",
      "  [27 58 31]\n",
      "  [27 58 31]\n",
      "  ...\n",
      "  [ 6 14  7]\n",
      "  [ 6 14  7]\n",
      "  [ 6 14  7]]\n",
      "\n",
      " [[28 57 32]\n",
      "  [28 57 32]\n",
      "  [28 57 32]\n",
      "  ...\n",
      "  [ 6 14  7]\n",
      "  [ 6 14  7]\n",
      "  [ 6 14  7]]]\n"
     ]
    }
   ],
   "source": [
    "print(img)"
   ]
  },
  {
   "cell_type": "code",
   "execution_count": 18,
   "metadata": {},
   "outputs": [
    {
     "name": "stdout",
     "output_type": "stream",
     "text": [
      "(731, 1100, 3)\n"
     ]
    }
   ],
   "source": [
    "print(img.shape)"
   ]
  },
  {
   "cell_type": "markdown",
   "metadata": {},
   "source": [
    "cv2.imread() reads an image and takes two arguments:\n",
    "\n",
    "Filename: The path to the image file.\n",
    "Flag: How to read the image:\n",
    "cv2.IMREAD_COLOR (or 1): Reads in color (default, 3 channels: RGB).\n",
    "cv2.IMREAD_GRAYSCALE (or 0): Reads in grayscale (1 channel).\n",
    "cv2.IMREAD_UNCHANGED (or -1): Reads with transparency if present (4 channels)."
   ]
  },
  {
   "cell_type": "code",
   "execution_count": 22,
   "metadata": {},
   "outputs": [],
   "source": [
    "#read image\n",
    "img=cv2.imread(r'C:\\Users\\ADMIN\\PycharmProjects\\LOGIICDEV\\IMAGE PROCESSING\\rose.jpg',0)\n",
    "cv2.imshow(\"grayscale image\",img)\n",
    "cv2.waitKey(0)\n",
    "cv2.destroyAllWindows()"
   ]
  },
  {
   "cell_type": "code",
   "execution_count": null,
   "metadata": {},
   "outputs": [],
   "source": []
  }
 ],
 "metadata": {
  "kernelspec": {
   "display_name": "Python 3",
   "language": "python",
   "name": "python3"
  },
  "language_info": {
   "codemirror_mode": {
    "name": "ipython",
    "version": 3
   },
   "file_extension": ".py",
   "mimetype": "text/x-python",
   "name": "python",
   "nbconvert_exporter": "python",
   "pygments_lexer": "ipython3",
   "version": "3.12.3"
  }
 },
 "nbformat": 4,
 "nbformat_minor": 2
}
